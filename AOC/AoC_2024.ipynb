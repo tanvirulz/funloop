{
 "cells": [
  {
   "cell_type": "code",
   "execution_count": null,
   "id": "163d25bb",
   "metadata": {},
   "outputs": [],
   "source": []
  },
  {
   "cell_type": "code",
   "execution_count": null,
   "id": "53301ead",
   "metadata": {},
   "outputs": [
    {
     "name": "stdout",
     "output_type": "stream",
     "text": [
      "1765812\n"
     ]
    }
   ],
   "source": [
    "#Day 1 small dataset\n",
    "def day1_a(input_file):\n",
    "\n",
    "    numbers = [int(x) for x in open(input_file).read().split()]\n",
    "    list_a = sorted(numbers[0::2])\n",
    "    list_b = sorted(numbers[1::2])\n",
    "    diff_sum = 0\n",
    "\n",
    "    for a,b in zip(list_a,list_b):\n",
    "        diff_sum += abs(a-b)\n",
    "\n",
    "    return diff_sum\n",
    "\n",
    "# small input set\n",
    "print( day1_a(\"./data/01a_input.txt\"))"
   ]
  },
  {
   "cell_type": "code",
   "execution_count": 17,
   "id": "85928916",
   "metadata": {},
   "outputs": [
    {
     "data": {
      "text/plain": [
       "20520794"
      ]
     },
     "execution_count": 17,
     "metadata": {},
     "output_type": "execute_result"
    }
   ],
   "source": [
    "# Day 1b\n",
    "\n",
    "numbers = [int(x) for x in open(\"./data/01a_input.txt\").read().split()]\n",
    "list_a = sorted(numbers[0::2])\n",
    "list_b = sorted(numbers[1::2])\n",
    "from collections import Counter\n",
    "\n",
    "count = Counter(list_b)\n",
    "\n",
    "out = [a*count[a] for a in list_a ]\n",
    "sum(out)"
   ]
  },
  {
   "cell_type": "code",
   "execution_count": null,
   "id": "bd02d7d0",
   "metadata": {},
   "outputs": [
    {
     "name": "stdout",
     "output_type": "stream",
     "text": [
      "472\n",
      "1000\n"
     ]
    }
   ],
   "source": [
    "#Day 2a \n",
    "\n",
    "lines = [x for x in open(\"./data/02_input.txt\").read().split('\\n') if x.strip() != \"\"]\n",
    "\n",
    "def check(line):\n",
    "    level = [int(x) for x in line.split()]\n",
    "    if len (level) <= 1: \n",
    "        return True \n",
    "    \n",
    "    if (level[0] > level[1]):\n",
    "        #check incremeent\n",
    "        for a, b in zip(level[:-1],level[1:]):\n",
    "            if a -b < 1 or a - b > 3:\n",
    "                return False \n",
    "        return True \n",
    "    elif (level[0] < level[1] ) :\n",
    "        for a, b in zip(level[:-1],level[1:]):\n",
    "            if b-a < 1 or b - a > 3:\n",
    "                return False\n",
    "        return True\n",
    "    elif (level[0] == level[1]): return False      \n",
    "    \n",
    "    \n",
    "\n",
    "           \n",
    "\n",
    "safe_count = 0\n",
    "\n",
    "for line in lines:\n",
    "    if (check(line)): \n",
    "        safe_count += 1\n",
    "        #print (line)\n",
    "\n",
    "\n",
    "print (safe_count)\n"
   ]
  },
  {
   "cell_type": "code",
   "execution_count": null,
   "id": "fbc41deb",
   "metadata": {},
   "outputs": [
    {
     "name": "stdout",
     "output_type": "stream",
     "text": [
      "7 6 4 2 1\n",
      "7 6 4\n",
      "6 4 2\n",
      "4 2 1\n"
     ]
    }
   ],
   "source": [
    "#Day 2b\n",
    "lines = [x for x in open(\"./data/02_test.txt\").read().split('\\n') if x.strip() != \"\"]\n",
    "\n",
    "\n",
    "#def inc_safe(a,b,c):\n",
    "\n",
    " "
   ]
  },
  {
   "cell_type": "code",
   "execution_count": null,
   "id": "e3581acc",
   "metadata": {},
   "outputs": [],
   "source": []
  }
 ],
 "metadata": {
  "kernelspec": {
   "display_name": "Python cwq",
   "language": "python",
   "name": "cwq"
  },
  "language_info": {
   "codemirror_mode": {
    "name": "ipython",
    "version": 3
   },
   "file_extension": ".py",
   "mimetype": "text/x-python",
   "name": "python",
   "nbconvert_exporter": "python",
   "pygments_lexer": "ipython3",
   "version": "3.12.3"
  }
 },
 "nbformat": 4,
 "nbformat_minor": 5
}
