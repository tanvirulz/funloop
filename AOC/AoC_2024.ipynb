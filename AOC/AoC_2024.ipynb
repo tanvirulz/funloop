{
 "cells": [
  {
   "cell_type": "code",
   "execution_count": null,
   "id": "163d25bb",
   "metadata": {},
   "outputs": [],
   "source": []
  },
  {
   "cell_type": "code",
   "execution_count": null,
   "id": "53301ead",
   "metadata": {},
   "outputs": [
    {
     "name": "stdout",
     "output_type": "stream",
     "text": [
      "1765812\n"
     ]
    }
   ],
   "source": [
    "#Day 1 small dataset\n",
    "def day1_a(input_file):\n",
    "\n",
    "    numbers = [int(x) for x in open(input_file).read().split()]\n",
    "    list_a = sorted(numbers[0::2])\n",
    "    list_b = sorted(numbers[1::2])\n",
    "    diff_sum = 0\n",
    "\n",
    "    for a,b in zip(list_a,list_b):\n",
    "        diff_sum += abs(a-b)\n",
    "\n",
    "    return diff_sum\n",
    "\n",
    "# small input set\n",
    "print( day1_a(\"./data/01a_input.txt\"))"
   ]
  },
  {
   "cell_type": "code",
   "execution_count": 17,
   "id": "85928916",
   "metadata": {},
   "outputs": [
    {
     "data": {
      "text/plain": [
       "20520794"
      ]
     },
     "execution_count": 17,
     "metadata": {},
     "output_type": "execute_result"
    }
   ],
   "source": [
    "# Day 1b\n",
    "\n",
    "numbers = [int(x) for x in open(\"./data/01a_input.txt\").read().split()]\n",
    "list_a = sorted(numbers[0::2])\n",
    "list_b = sorted(numbers[1::2])\n",
    "from collections import Counter\n",
    "\n",
    "count = Counter(list_b)\n",
    "\n",
    "out = [a*count[a] for a in list_a ]\n",
    "sum(out)"
   ]
  },
  {
   "cell_type": "code",
   "execution_count": 2,
   "id": "bd02d7d0",
   "metadata": {},
   "outputs": [
    {
     "name": "stdout",
     "output_type": "stream",
     "text": [
      "472\n"
     ]
    }
   ],
   "source": [
    "#Day 2a \n",
    "\n",
    "lines = [x for x in open(\"./data/02_input.txt\").read().split('\\n') if x.strip() != \"\"]\n",
    "\n",
    "def check(level):\n",
    "    \n",
    "    if len (level) <= 1: \n",
    "        return True \n",
    "    \n",
    "    if (level[0] > level[1]):\n",
    "        #check incremeent\n",
    "        for a, b in zip(level[:-1],level[1:]):\n",
    "            if a -b < 1 or a - b > 3:\n",
    "                return False \n",
    "        return True \n",
    "    elif (level[0] < level[1] ) :\n",
    "        for a, b in zip(level[:-1],level[1:]):\n",
    "            if b-a < 1 or b - a > 3:\n",
    "                return False\n",
    "        return True\n",
    "    elif (level[0] == level[1]): return False      \n",
    "    \n",
    "    \n",
    "\n",
    "           \n",
    "\n",
    "safe_count = 0\n",
    "\n",
    "for line in lines:\n",
    "    level = [int(x) for x in line.split()]\n",
    "    if (check(level)): \n",
    "        safe_count += 1\n",
    "        #print (line)\n",
    "\n",
    "\n",
    "print (safe_count)\n"
   ]
  },
  {
   "cell_type": "code",
   "execution_count": 9,
   "id": "fbc41deb",
   "metadata": {},
   "outputs": [
    {
     "name": "stdout",
     "output_type": "stream",
     "text": [
      "520\n"
     ]
    }
   ],
   "source": [
    "#Day 2b\n",
    "lines = [x for x in open(\"./data/02_input.txt\").read().split('\\n') if x.strip() != \"\"]\n",
    "\n",
    "#brute force check \n",
    "\n",
    "            \n",
    "safe_count_damped = 0\n",
    "for line in lines:\n",
    "    A = [int(x) for x in line.split()]\n",
    "    if (check(A)): safe_count_damped +=1\n",
    "    else: \n",
    "        for k in range(len(A)):\n",
    "            B = A[:k]+A[k+1:]\n",
    "            if (check(B)): \n",
    "                safe_count_damped +=1\n",
    "                break\n",
    "    \n",
    "\n",
    "print (safe_count_damped)\n",
    "\n",
    " "
   ]
  },
  {
   "cell_type": "code",
   "execution_count": null,
   "id": "e3581acc",
   "metadata": {},
   "outputs": [
    {
     "name": "stdout",
     "output_type": "stream",
     "text": [
      "162813399\n"
     ]
    }
   ],
   "source": [
    "#Day 3a\n",
    "import re \n",
    "s = \"xmul(2,4)%&mul[3,7]!@^do_not_mul(5,5)+mul(32,64]then(mul(11,8)mul(8,5))\"\n",
    "\n",
    "s = open(\"data/03_input.txt\").read()\n",
    "muls = re.findall(r\"mul\\(\\d+,\\d+\\)\",s)\n",
    "\n",
    "sum = 0\n",
    "for mul in muls:\n",
    "    a, b = mul[4:-1].split(',')\n",
    "    sum += (int(a)*int(b))\n",
    "\n",
    "print (sum)"
   ]
  },
  {
   "cell_type": "code",
   "execution_count": 88,
   "id": "aa0427cc",
   "metadata": {},
   "outputs": [
    {
     "name": "stdout",
     "output_type": "stream",
     "text": [
      "53783319\n"
     ]
    }
   ],
   "source": [
    "#Day 3b\n",
    "\n",
    "s = \"xmul(2,4)&mul[3,7]!^don't()_mul(5,5)+mul(32,64](mul(11,8)undo()?mul(8,5))\"\n",
    "\n",
    "pattern = r\"don't|do|mul\\(\\d+,\\d+\\)\"\n",
    "\n",
    "s = open(\"data/03_input.txt\").read()\n",
    "match = re.findall(pattern, s )\n",
    "flag = True\n",
    "sum = 0\n",
    "for m in match:\n",
    "    if m == 'do': flag = True\n",
    "    elif m == \"don't\": flag = False\n",
    "    elif (flag):\n",
    "            a, b = m[4:-1].split(',')\n",
    "            sum += (int(a)*int(b))\n",
    "    \n",
    "#print (match)\n",
    "print (sum)"
   ]
  },
  {
   "cell_type": "code",
   "execution_count": 73,
   "id": "bae4f73b",
   "metadata": {},
   "outputs": [
    {
     "name": "stdout",
     "output_type": "stream",
     "text": [
      "1\n"
     ]
    }
   ],
   "source": [
    "i = 0\n",
    "for d, m in match: \n",
    "    if d == \"do\":\n",
    "        i+=1\n",
    "print (i)"
   ]
  },
  {
   "cell_type": "code",
   "execution_count": 85,
   "id": "7c02c4e9",
   "metadata": {},
   "outputs": [
    {
     "data": {
      "text/plain": [
       "['mul(2,4)', \"don't\", 'mul(5,5)', 'mul(11,8)', 'do', 'mul(8,5)']"
      ]
     },
     "execution_count": 85,
     "metadata": {},
     "output_type": "execute_result"
    }
   ],
   "source": [
    "s = \"xmul(2,4)&mul[3,7]!^don't()_mul(5,5)+mul(32,64](mul(11,8)undo()?mul(8,5))\"\n",
    "\n",
    "pattern = r\"don't|do|mul\\(\\d+,\\d+\\)\"\n",
    "match = re.findall(pattern, s )\n",
    "match"
   ]
  },
  {
   "cell_type": "code",
   "execution_count": null,
   "id": "86937a99",
   "metadata": {},
   "outputs": [
    {
     "name": "stdout",
     "output_type": "stream",
     "text": [
      "140 140\n",
      "434\n",
      "855\n",
      "1265\n",
      "1671\n",
      "2079\n",
      "2483\n"
     ]
    }
   ],
   "source": [
    "#Day 4a: Ceres Search\n",
    "\n",
    "import re \n",
    "\n",
    "data = open(\"data/04_input.txt\").read()\n",
    "#print (data)\n",
    "data = data.split()\n",
    "w = len(data[0])\n",
    "h = len(data)\n",
    "print (w,h)\n",
    "\n",
    "total = 0\n",
    "\n",
    "pattern = r\"XMAS\"\n",
    "\n",
    "#HF (Horizontal Forwared) and HB (Hrizontal Backword)\n",
    "count = 0\n",
    "for line in data:\n",
    "    count += len(re.findall(pattern, line))\n",
    "    count += len(re.findall(pattern, line[::-1]))\n",
    "\n",
    "print (count)\n",
    "\n",
    "#VF & VB\n",
    "for j in range (w):\n",
    "    A = \"\"\n",
    "    for i in range (h):\n",
    "        A = A+data[i][j]\n",
    "    #print (A)\n",
    "    count += len(re.findall(pattern, A))\n",
    "    count += len(re.findall(pattern, A[::-1]))\n",
    "\n",
    "print (count)\n",
    "\n",
    "#DF % DB\n",
    "for i in range (h):\n",
    "    A = \"\"\n",
    "    for j in (range(i+1)):\n",
    "        #print (i-j,j)\n",
    "        A = A + data[i-j][j]\n",
    "       #print (A )\n",
    "    count += len(re.findall(pattern, A))\n",
    "    count += len(re.findall(pattern, A[::-1])) \n",
    "\n",
    "print (count)\n",
    "for j in range (1,w):\n",
    "    A = \"\"\n",
    "    for k in range(j,w):\n",
    "        #print (h-k+j-1,k)\n",
    "        A = A + data[h-k+j-1][k]\n",
    "\n",
    "    count += len(re.findall(pattern, A))\n",
    "    count += len(re.findall(pattern, A[::-1]))\n",
    "\n",
    "       #print (A )\n",
    "\n",
    "\n",
    "\n",
    "print (count)\n",
    "#AF % AB\n",
    "for i in range (h):\n",
    "    A = \"\"\n",
    "    for j in (range(i+1)):\n",
    "        #print (i-j,j)\n",
    "        A = A + (data[i-j])[::-1][j]\n",
    "       #print (A )\n",
    "    count += len(re.findall(pattern, A))\n",
    "    count += len(re.findall(pattern, A[::-1])) \n",
    "print (count)\n",
    "\n",
    "for j in range (1,w):\n",
    "    A = \"\"\n",
    "    for k in range(j,w):\n",
    "        #print (h-k+j-1,k)\n",
    "        A = A + (data[h-k+j-1])[::-1][k]\n",
    "\n",
    "    count += len(re.findall(pattern, A))\n",
    "    count += len(re.findall(pattern, A[::-1]))\n",
    "print(count)"
   ]
  },
  {
   "cell_type": "code",
   "execution_count": 110,
   "id": "45983217",
   "metadata": {},
   "outputs": [
    {
     "name": "stdout",
     "output_type": "stream",
     "text": [
      "1925\n"
     ]
    }
   ],
   "source": [
    "#Day 4b\n",
    "data = open(\"data/04_input.txt\").read()\n",
    "#print (data)\n",
    "data = data.split()\n",
    "#data = [\"abcd\",\"efgh\",\"ijkl\",\"mnop\"]\n",
    "def check_X_MAS(B):\n",
    "    #print (\"in check\")\n",
    "    #print (len(B))\n",
    "    if B[0][0] == 'M' and B[0][2]=='S' and B[1][1]=='A' and B[2][0]=='M' and B[2][2]=='S': return True \n",
    "    if B[0][0] == 'M' and B[0][2]=='M' and B[1][1]=='A' and B[2][0]=='S' and B[2][2]=='S': return True \n",
    "    if B[0][0] == 'S' and B[0][2]=='S' and B[1][1]=='A' and B[2][0]=='M' and B[2][2]=='M': return True \n",
    "    if B[0][0] == 'S' and B[0][2]=='M' and B[1][1]=='A' and B[2][0]=='S' and B[2][2]=='M': return True \n",
    "    return False\n",
    "\n",
    "\n",
    "w = len(data[0])\n",
    "h = len(data)\n",
    "x_count = 0\n",
    "\n",
    "for i in range(h-3+1):\n",
    "    #print (i)\n",
    "    for j in range (w-3+1):\n",
    "        B = []\n",
    "        for ii in range(3):\n",
    "            B.append(\"\")\n",
    "            for jj in range(3):\n",
    "                B[ii]=B[ii]+(data[i+ii][j+jj])\n",
    "        #print (B)\n",
    "        #break\n",
    "        if check_X_MAS(B): x_count += 1\n",
    "\n",
    "\n",
    "\n",
    "print (x_count)\n"
   ]
  },
  {
   "cell_type": "code",
   "execution_count": 64,
   "id": "caa7b4a8",
   "metadata": {},
   "outputs": [
    {
     "name": "stdout",
     "output_type": "stream",
     "text": [
      "6034\n"
     ]
    }
   ],
   "source": [
    "#Day5a Print Queue \n",
    "data = [x for x in open(\"./data/05_input.txt\").read().split() if x != \"\"]\n",
    "\n",
    "#Violating_Rule_set \n",
    "R = set()\n",
    "\n",
    "total = 0\n",
    "for line in data:\n",
    "    if \"|\" in line:\n",
    "        a,b = line.split(\"|\")\n",
    "        R.add((int(b),int(a)))\n",
    "\n",
    "    else: \n",
    "        V = [int(x) for x in line.split(\",\")]\n",
    "        #print (V)\n",
    "        \n",
    "        #edge set\n",
    "        E = set()\n",
    "        for i in range(len(V)):\n",
    "            for j in range(i+1,len(V)):\n",
    "                #print (V[i],V[j])\n",
    "                E.add((V[i],V[j]))\n",
    "\n",
    "        if( not R&E):\n",
    "            total += V[len(V)//2] \n",
    "\n",
    "\n",
    "print(total)"
   ]
  },
  {
   "cell_type": "code",
   "execution_count": null,
   "id": "02b9edde",
   "metadata": {},
   "outputs": [
    {
     "name": "stdout",
     "output_type": "stream",
     "text": [
      "6305\n"
     ]
    }
   ],
   "source": [
    "#Day5b Print Queue \n",
    "data = [x for x in open(\"./data/05_input.txt\").read().split() if x != \"\"]\n",
    "\n",
    "def check_violation(A,a,b):\n",
    "    if A.index(a)<A.index(b): return True\n",
    "    return False \n",
    "\n",
    "def swap_elements(A,a,b):\n",
    "    i = A.index(a)\n",
    "    j = A.index(b)\n",
    "    A[i],A[j] = A[j],A[i]\n",
    "\n",
    "def create_edge_set(V):\n",
    "    E = set()\n",
    "    for i in range(len(V)):\n",
    "        for j in range(i+1,len(V)):\n",
    "            #print (V[i],V[j])\n",
    "            E.add((V[i],V[j]))\n",
    "    return E \n",
    "\n",
    "#Violating_Rule_set \n",
    "R = set()\n",
    "\n",
    "total = 0\n",
    "for line in data:\n",
    "    if \"|\" in line:\n",
    "        a,b = line.split(\"|\")\n",
    "        R.add((int(b),int(a)))\n",
    "\n",
    "    else: \n",
    "        V = [int(x) for x in line.split(\",\")]\n",
    "      \n",
    "        E = create_edge_set(V)\n",
    "\n",
    "        #violating edge set M\n",
    "        M =  (R&E)\n",
    "        if (M):\n",
    "            while True: \n",
    "                #flag = True\n",
    "                for (a,b) in M: \n",
    "                    if check_violation(V, a, b):\n",
    "                        swap_elements(V,a,b)\n",
    "                new_E = create_edge_set(V)\n",
    "                M = R & new_E \n",
    "                if not M:\n",
    "                    break\n",
    "\n",
    "            total += V[len(V)//2]\n",
    "\n",
    "print(total)"
   ]
  },
  {
   "cell_type": "code",
   "execution_count": null,
   "id": "43b59a59",
   "metadata": {},
   "outputs": [
    {
     "data": {
      "text/plain": [
       "False"
      ]
     },
     "execution_count": 76,
     "metadata": {},
     "output_type": "execute_result"
    }
   ],
   "source": [
    "#6693\n",
    "A = [2,5,4,3,6]\n",
    "\n",
    "def check_violation(A,a,b):\n",
    "    if A.index(a)<A.index(b): return True\n",
    "    return False \n",
    "\n"
   ]
  },
  {
   "cell_type": "code",
   "execution_count": 77,
   "id": "72d6aec9",
   "metadata": {},
   "outputs": [
    {
     "name": "stdout",
     "output_type": "stream",
     "text": [
      "1 2\n",
      "3 4\n"
     ]
    }
   ],
   "source": [
    "A = {(1,2),(3,4)}\n",
    "\n",
    "for (a,b) in A: \n",
    "    print (a,b )\n",
    "\n"
   ]
  },
  {
   "cell_type": "code",
   "execution_count": 81,
   "id": "8fb30274",
   "metadata": {},
   "outputs": [
    {
     "data": {
      "text/plain": [
       "[1, 4, 3, 2]"
      ]
     },
     "execution_count": 81,
     "metadata": {},
     "output_type": "execute_result"
    }
   ],
   "source": [
    "A = [1,2,3,4]\n",
    "def swap_elements(A,a,b):\n",
    "    i = A.index(a)\n",
    "    j = A.index(b)\n",
    "    A[i],A[j] = A[j],A[i]\n",
    "\n",
    "swap_elements(A,2,4)\n",
    "A"
   ]
  },
  {
   "cell_type": "code",
   "execution_count": 26,
   "id": "4d740a1c",
   "metadata": {},
   "outputs": [
    {
     "name": "stdout",
     "output_type": "stream",
     "text": [
      "130 130\n",
      "5131\n"
     ]
    }
   ],
   "source": [
    "#Day 6a: Guard Gallivant \n",
    "\n",
    "A = [list(x.strip()) for x in open(\"data/06_input.txt\").read().split(\"\\n\") if x != \"\"]\n",
    "\n",
    "h = len(A)\n",
    "w = len(A[0])\n",
    "print(h,w)\n",
    "\n",
    "\n",
    "i=0\n",
    "j=0\n",
    "\n",
    "# Up (-1,0), Right (0,1), Down (1,0), Left(0,-1)\n",
    "\n",
    "delta = [-1,0]\n",
    "\n",
    "for ii in range(h): \n",
    "    for jj in range(w): \n",
    "        #print (A[ii][jj])\n",
    "        if A[ii][jj] == '^': \n",
    "\n",
    "            i,j = ii,jj\n",
    "            \n",
    "\n",
    "\n",
    "while i>=0 and j>=0 and i<len(A) and j <len(A[0]):\n",
    "    \n",
    "    if A[i][j] == '#':\n",
    "        #step back \n",
    "        i -= delta[0]\n",
    "        j -= delta[1] \n",
    "        #turn \n",
    "        delta[0], delta[1] = delta[1], (-delta[0])\n",
    "\n",
    "\n",
    "    #Mark\n",
    "    A[i][j] = 'X'\n",
    "    #Move \n",
    "    i += delta[0]\n",
    "    j += delta[1]\n",
    "\n",
    "count = 0\n",
    "for ii in range(h):\n",
    "    for jj in range(w):\n",
    "        if A[ii][jj] == 'X':\n",
    "            count +=1\n",
    "\n",
    "print (count )\n",
    "\n"
   ]
  },
  {
   "cell_type": "code",
   "execution_count": 45,
   "id": "525eb79c",
   "metadata": {},
   "outputs": [
    {
     "name": "stdout",
     "output_type": "stream",
     "text": [
      "130 130\n",
      "0\n",
      "obst_count: 0\n",
      "5\n",
      "obst_count: 19\n",
      "10\n",
      "obst_count: 98\n",
      "15\n",
      "obst_count: 159\n",
      "20\n",
      "obst_count: 215\n",
      "25\n",
      "obst_count: 278\n",
      "30\n",
      "obst_count: 392\n",
      "35\n",
      "obst_count: 478\n",
      "40\n",
      "obst_count: 578\n",
      "45\n",
      "obst_count: 677\n",
      "50\n",
      "obst_count: 773\n",
      "55\n",
      "obst_count: 878\n",
      "60\n",
      "obst_count: 985\n",
      "65\n",
      "obst_count: 1086\n",
      "70\n",
      "obst_count: 1144\n",
      "75\n",
      "obst_count: 1236\n",
      "80\n",
      "obst_count: 1317\n",
      "85\n",
      "obst_count: 1388\n",
      "90\n",
      "obst_count: 1490\n",
      "95\n",
      "obst_count: 1554\n",
      "100\n",
      "obst_count: 1651\n",
      "105\n",
      "obst_count: 1688\n",
      "110\n",
      "obst_count: 1725\n",
      "115\n",
      "obst_count: 1755\n",
      "120\n",
      "obst_count: 1770\n",
      "125\n",
      "obst_count: 1778\n",
      "1784\n"
     ]
    }
   ],
   "source": [
    "# Day6b\n",
    "import copy\n",
    "\n",
    "B = [list(x.strip()) for x in open(\"data/06_input.txt\").read().split(\"\\n\") if x != \"\"]\n",
    "\n",
    "h = len(B)\n",
    "w = len(B[0])\n",
    "print(h,w)\n",
    "\n",
    "\n",
    "\n",
    "def check_loop(A,x,y):\n",
    "\n",
    "    h = len(A)\n",
    "    w = len(A[0])\n",
    "    i = 0\n",
    "    j = 0\n",
    "\n",
    "    for ii in range(h): \n",
    "        for jj in range(w): \n",
    "            #print (A[ii][jj])\n",
    "            if A[ii][jj] == '^': \n",
    "                i,j = ii,jj\n",
    "    \n",
    "    if i==x and j==y :\n",
    "        return False\n",
    "    \n",
    "    A[x][y] = '#'\n",
    "    #flag = False\n",
    "    dejavu = 0\n",
    "    delta = [-1,0]\n",
    "    \n",
    "    while i>=0 and j>=0 and i<len(A) and j <len(A[0]) and dejavu< h*w:\n",
    "        if A[i][j] == '#':\n",
    "            #step back \n",
    "            i -= delta[0]\n",
    "            j -= delta[1] \n",
    "            dejavu -=1\n",
    "            #turn \n",
    "            delta[0], delta[1] = delta[1], (-delta[0])\n",
    "\n",
    "\n",
    "        #Mark\n",
    "        A[i][j] = 'X'\n",
    "        #Move \n",
    "        i += delta[0]\n",
    "        j += delta[1]\n",
    "        dejavu +=1\n",
    "\n",
    "    if dejavu == h*w:\n",
    "        return True\n",
    "    else:\n",
    "        return False    \n",
    "\n",
    "\n",
    "obst_count=0\n",
    "for ii in range(h):\n",
    "    \n",
    "    for jj in range(w):\n",
    "        A = copy.deepcopy(B)\n",
    "        #print (ii,jj)\n",
    "        if check_loop(A,ii,jj):\n",
    "            obst_count +=1\n",
    "    if (ii%5==0 ):\n",
    "        print (ii)\n",
    "        print (\"obst_count:\",obst_count)\n",
    "\n",
    "print (obst_count)\n",
    "\n",
    "        \n",
    "\n"
   ]
  },
  {
   "cell_type": "code",
   "execution_count": 8,
   "id": "9e9a5f61",
   "metadata": {},
   "outputs": [
    {
     "name": "stdout",
     "output_type": "stream",
     "text": [
      "5030892084481\n"
     ]
    }
   ],
   "source": [
    "#Day 7a: Bridge Repair\n",
    "\n",
    "lines = [x for x in open(\"data/07_input.txt\").read().split(\"\\n\")]\n",
    "\n",
    "T_value = []\n",
    "data = []\n",
    "for line in lines:\n",
    "    val, components = line.split(\": \",maxsplit=1)\n",
    "    T_value.append(int(val))\n",
    "\n",
    "    data.append( [int(x) for x in components.split()] )\n",
    "\n",
    "#print (T_value)\n",
    "#print (data)\n",
    "\n",
    "total = 0\n",
    "\n",
    "for val, comps in zip(T_value,data):\n",
    "    A = [comps[0]]\n",
    "    for i in range(1,len(comps)):\n",
    "        #double\n",
    "        B = [x + comps[i] for x in A] + [x * comps[i] for x in A]\n",
    "        A = B\n",
    "    if val in A: \n",
    "        total += val\n",
    "\n",
    "print (total )"
   ]
  },
  {
   "cell_type": "code",
   "execution_count": null,
   "id": "945a9924",
   "metadata": {},
   "outputs": [
    {
     "name": "stdout",
     "output_type": "stream",
     "text": [
      "91377448644679\n"
     ]
    }
   ],
   "source": [
    "\n",
    "#Day 7b: Bridge Repair\n",
    "\n",
    "lines = [x for x in open(\"data/07_input.txt\").read().split(\"\\n\")]\n",
    "\n",
    "T_value = []\n",
    "data = []\n",
    "for line in lines:\n",
    "    val, components = line.split(\": \",maxsplit=1)\n",
    "    T_value.append(int(val))\n",
    "\n",
    "    data.append( [int(x) for x in components.split()] )\n",
    "\n",
    "#print (T_value)\n",
    "#print (data)\n",
    "\n",
    "total = 0\n",
    "\n",
    "for val, comps in zip(T_value,data):\n",
    "    A = [comps[0]]\n",
    "    for i in range(1,len(comps)):\n",
    "        #Add and Mult\n",
    "        B = [x + comps[i] for x in A] + [x * comps[i] for x in A] \n",
    "        #Concat\n",
    "        C = [int(str (x)+str(comps[i]) ) for x in A]\n",
    "        A = B + C \n",
    "             \n",
    "    if val in A: \n",
    "        total += val\n",
    "\n",
    "\n",
    "print (total )"
   ]
  },
  {
   "cell_type": "code",
   "execution_count": 56,
   "id": "c708d0a9",
   "metadata": {},
   "outputs": [
    {
     "name": "stdout",
     "output_type": "stream",
     "text": [
      "w,h 12 12\n",
      "result: 14\n"
     ]
    },
    {
     "data": {
      "text/plain": [
       "[['.', '.', '.', '.', '.', '.', '#', '.', '.', '.', '.', '#'],\n",
       " ['.', '.', '.', '#', '.', '.', '.', '.', '0', '.', '.', '.'],\n",
       " ['.', '.', '.', '.', '#', '0', '.', '.', '.', '.', '#', '.'],\n",
       " ['.', '.', '#', '.', '.', '.', '.', '0', '.', '.', '.', '.'],\n",
       " ['.', '.', '.', '.', '0', '.', '.', '.', '.', '#', '.', '.'],\n",
       " ['.', '#', '.', '.', '.', '.', '#', '.', '.', '.', '.', '.'],\n",
       " ['.', '.', '.', '#', '.', '.', '.', '.', '.', '.', '.', '.'],\n",
       " ['#', '.', '.', '.', '.', '.', '.', '#', '.', '.', '.', '.'],\n",
       " ['.', '.', '.', '.', '.', '.', '.', '.', 'A', '.', '.', '.'],\n",
       " ['.', '.', '.', '.', '.', '.', '.', '.', '.', 'A', '.', '.'],\n",
       " ['.', '.', '.', '.', '.', '.', '.', '.', '.', '.', '#', '.'],\n",
       " ['.', '.', '.', '.', '.', '.', '.', '.', '.', '.', '#', '.']]"
      ]
     },
     "execution_count": 56,
     "metadata": {},
     "output_type": "execute_result"
    }
   ],
   "source": [
    "# Day 8a: Resonant Collinearity\n",
    "import copy\n",
    "A = [list(x.strip()) for x in open(\"data/08_test.txt\").read().split(\"\\n\") if x != \"\"]\n",
    "h = len(A)\n",
    "w = len(A[0])\n",
    "A\n",
    "#B is the state\n",
    "B = copy.deepcopy(A)\n",
    "\n",
    "\n",
    "def get_antinode(x1,y1,x2,y2):\n",
    "    dx = x2-x1\n",
    "    dy = y2-y1\n",
    "    nx = x2 + dx\n",
    "    ny = y2 + dy\n",
    "    return nx, ny\n",
    "def check_lim(x,y,h,w):\n",
    "    if x>=0 and y>=0 and x<h and y<w : return True\n",
    "    else: return False\n",
    "print (\"w,h\",w,h)\n",
    "for i1 in range(w):\n",
    "    for j1 in range(h):\n",
    "        for i2 in range(w):\n",
    "            for j2 in range(h):\n",
    "                if i1!=i2 and j1!=j2 and A[i1][j1]!= '.' and A[i1][j1] == A[i2][j2]: \n",
    "                    #print (\"found pair:\",i1,j1,\",\",i2,j2,\",\",A[i1][j1])\n",
    "\n",
    "                    ni, nj = get_antinode(i1,j1,i2,j2)\n",
    "                    if check_lim(ni,nj,h,w):\n",
    "                        B[ni][nj] = '#'\n",
    "\n",
    "\n",
    "#count antinode \n",
    "count = 0\n",
    "for i in range(w):\n",
    "    for j in range(h):\n",
    "                if B[i][j] == '#':\n",
    "                     count +=1\n",
    "print (\"result:\",count)\n",
    "B\n"
   ]
  },
  {
   "cell_type": "code",
   "execution_count": 57,
   "id": "96e6dd3b",
   "metadata": {},
   "outputs": [
    {
     "name": "stdout",
     "output_type": "stream",
     "text": [
      "result: 994\n"
     ]
    }
   ],
   "source": [
    "#Day 8b\n",
    "A = [list(x.strip()) for x in open(\"data/08_input.txt\").read().split(\"\\n\") if x != \"\"]\n",
    "h = len(A)\n",
    "w = len(A[0])\n",
    "\n",
    "#B is the state\n",
    "B = copy.deepcopy(A)\n",
    "\n",
    "def set_antinode_list(B,x1,y1,x2,y2,h,w):\n",
    "\n",
    "    nx, ny = get_antinode(x1,y1,x2,y2)\n",
    "\n",
    "    while check_lim(nx,ny,h,w):\n",
    "        B[nx][ny] = '#'\n",
    "        x1,y1 = x2,y2 \n",
    "        x2,y2 = nx,ny \n",
    "        nx, ny = get_antinode(x1,y1,x2,y2)\n",
    "        \n",
    "for i1 in range(w):\n",
    "    for j1 in range(h):\n",
    "        for i2 in range(w):\n",
    "            for j2 in range(h):\n",
    "                if i1!=i2 and j1!=j2 and A[i1][j1]!= '.' and A[i1][j1] == A[i2][j2]: \n",
    "                    #print (\"found pair:\",i1,j1,\",\",i2,j2,\",\",A[i1][j1])\n",
    "                    B[i1][j1] = '#'\n",
    "                    B[i2][j2] = '#'\n",
    "                    set_antinode_list(B,i1,j1,i2,j2,h,w)\n",
    "                    #if check_lim(ni,nj,h,w):\n",
    "                    #    B[ni][nj] = '#'\n",
    "\n",
    "\n",
    "#count antinode \n",
    "count = 0\n",
    "for i in range(w):\n",
    "    for j in range(h):\n",
    "                if B[i][j] == '#':\n",
    "                     count +=1\n",
    "print (\"result:\",count)\n",
    "#B\n",
    "\n"
   ]
  },
  {
   "cell_type": "code",
   "execution_count": 30,
   "id": "5ad623c8",
   "metadata": {},
   "outputs": [
    {
     "name": "stdout",
     "output_type": "stream",
     "text": [
      "6370402949053\n"
     ]
    }
   ],
   "source": [
    "# Day 9a: Disk Fragmenter\n",
    "\n",
    "disk_map = [int(x) for x in list(open(\"./data/09_input.txt\").read().strip())]\n",
    "#print(disk_map)\n",
    "\n",
    "disk = []\n",
    "for i in range(len(disk_map)):\n",
    "    if i%2==0:\n",
    "        disk = disk + ([i//2]*disk_map[i])\n",
    "    else: \n",
    "        disk = disk + ([-1]*disk_map[i])\n",
    "\n",
    "#print(disk )\n",
    "i = 0\n",
    "j = len(disk)-1\n",
    "\n",
    "while i<j:\n",
    "    while disk[i] != -1 and i<j: \n",
    "        i+=1\n",
    "    #print (\"i:\",i)\n",
    "    while disk[j] ==-1 and i<j:\n",
    "        j-=1 \n",
    "    disk[i],disk[j] = disk[j],disk[i]\n",
    "    i+=1\n",
    "    j-=1\n",
    "#print(disk)\n",
    "\n",
    "\n",
    "checksum = 0\n",
    "\n",
    "for i, a in enumerate(disk):\n",
    "    if (a==-1):break\n",
    "    checksum += (i*a)\n",
    "print (checksum)"
   ]
  },
  {
   "cell_type": "code",
   "execution_count": 21,
   "id": "aed76318",
   "metadata": {},
   "outputs": [
    {
     "name": "stdout",
     "output_type": "stream",
     "text": [
      "6398096697992\n"
     ]
    }
   ],
   "source": [
    "# Day9b\n",
    "\n",
    "disk_map = [int(x) for x in list(open(\"./data/09_input.txt\").read().strip())]\n",
    "disk = []\n",
    "for i in range(len(disk_map)):\n",
    "    if i%2==0:\n",
    "        disk.append ([i//2]*disk_map[i])\n",
    "    else: \n",
    "        disk.append([-1]*disk_map[i])\n",
    "\n",
    "\n",
    "j = len(disk)-1\n",
    "\n",
    "def empty_count(A):\n",
    "    count = 0\n",
    "    for a in A:\n",
    "        if a == -1:\n",
    "            count +=1\n",
    "    return count \n",
    "\n",
    "def move(A,B):\n",
    "    i = 0\n",
    "    while A[i] != -1:\n",
    "        i+=1\n",
    "    \n",
    "    for j in range(len(B)):\n",
    "        A[i] = B[j]\n",
    "        B[j]= -1\n",
    "        i+=1\n",
    "\n",
    "while j>0:\n",
    "    i=1\n",
    "    while empty_count(disk[i])<len(disk[j]) and i<j:\n",
    "        i += 2\n",
    "    if i < j: \n",
    "        move(disk[i],disk[j])\n",
    "    j-= 2\n",
    "\n",
    "#print (disk)\n",
    "\n",
    "flat_disk = [item for segment in disk for item in segment]\n",
    "\n",
    "#print (\"flat\",flat_disk)\n",
    "\n",
    "checksum = 0\n",
    "\n",
    "for i, a in enumerate(flat_disk):\n",
    "    if a != -1:\n",
    "        checksum += (i*a)\n",
    "\n",
    "print (checksum)\n"
   ]
  },
  {
   "cell_type": "code",
   "execution_count": 29,
   "id": "6e06df44",
   "metadata": {},
   "outputs": [
    {
     "name": "stdout",
     "output_type": "stream",
     "text": [
      "[1, 2, 3, 4, 5]\n"
     ]
    }
   ],
   "source": [
    "list_of_lists = [[1, 2], [3, 4], [5]]\n",
    "flattened = [item for sublist in list_of_lists for item in sublist]\n",
    "print(flattened)  # Output: [1, 2, 3, 4, 5]"
   ]
  },
  {
   "cell_type": "code",
   "execution_count": 71,
   "id": "7e4bafe1",
   "metadata": {},
   "outputs": [
    {
     "data": {
      "text/plain": [
       "825"
      ]
     },
     "execution_count": 71,
     "metadata": {},
     "output_type": "execute_result"
    }
   ],
   "source": [
    "# Day 10a: Hoof It\n",
    "\n",
    "# G = [ list(x) for x in open('data/10_test.txt').read().splitlines()]\n",
    "# G = [[int(x) for x in row] for row in G]\n",
    "\n",
    "myint = lambda n: int(n) if n.isdigit() else 12\n",
    "\n",
    "G = [ [myint(n) for n in list(line)] for line in open('data/10_input.txt').read().splitlines()]\n",
    "# print(G)\n",
    "h = len(G)\n",
    "w = len(G[0])\n",
    "\n",
    "up = lambda i, j: (i,j) if i==0 else (i-1,j)\n",
    "down = lambda i,j: (i,j) if i==h-1 else (i+1,j)\n",
    "left = lambda i,j: (i,j) if j==0 else (i,j-1)\n",
    "right = lambda i,j: (i,j) if j==w-1 else (i,j+1)\n",
    "\n",
    "moves = [up,down,left,right]\n",
    "\n",
    "\n",
    "\n",
    "def valid(i,j,ni,nj):\n",
    "    return True if (G[ni][nj] - G[i][j]) == 1 else False\n",
    "\n",
    "score = 0\n",
    "for ii in range(h):\n",
    "    for jj in range(w):\n",
    "        if G[ii][jj] == 0:\n",
    "            # print (f'head at {ii},{jj}')\n",
    "            st = {} #state\n",
    "            def dfs(i,j):\n",
    "                global score\n",
    "                if st.get((i,j),'white') == 'black':\n",
    "                    return\n",
    "                \n",
    "                st[(i,j)] = 'grey'\n",
    "                \n",
    "                if G[i][j] == 9:\n",
    "                    score +=1\n",
    "                    st[(i,j)] = 'black'\n",
    "                    return\n",
    "                for m in moves:\n",
    "                    # ni,nj = m(i,j)\n",
    "                    if valid(i,j,*m(i,j)):\n",
    "                        dfs(*m(i,j))\n",
    "                    st[(i,j)] = 'black'\n",
    "\n",
    "            dfs(ii,jj)\n",
    "\n",
    "\n",
    "\n",
    "            #start dfs     \n",
    "score"
   ]
  },
  {
   "cell_type": "code",
   "execution_count": null,
   "id": "eac2a578",
   "metadata": {},
   "outputs": [
    {
     "data": {
      "text/plain": [
       "1805"
      ]
     },
     "execution_count": 13,
     "metadata": {},
     "output_type": "execute_result"
    }
   ],
   "source": [
    "# Day 10b: Hoof It\n",
    "\n",
    "\n",
    "myint = lambda n: int(n) if n.isdigit() else 12\n",
    "\n",
    "G = [ [myint(n) for n in list(line)] for line in open('data/10_input.txt').read().splitlines()]\n",
    "# print(G)\n",
    "h = len(G)\n",
    "w = len(G[0])\n",
    "\n",
    "up = lambda i, j: (i,j) if i==0 else (i-1,j)\n",
    "down = lambda i,j: (i,j) if i==h-1 else (i+1,j)\n",
    "left = lambda i,j: (i,j) if j==0 else (i,j-1)\n",
    "right = lambda i,j: (i,j) if j==w-1 else (i,j+1)\n",
    "\n",
    "moves = [up,down,left,right]\n",
    "\n",
    "\n",
    "\n",
    "def valid(i,j,ni,nj):\n",
    "    return True if (G[ni][nj] - G[i][j]) == 1 else False\n",
    "\n",
    "\n",
    "rating = 0\n",
    "\n",
    "for ii in range(h):\n",
    "\n",
    "    for jj in range(w):\n",
    "        if G[ii][jj] == 0:\n",
    "            # print (f'head at {ii},{jj}')\n",
    "            st = {} #state\n",
    "            def dfs(i,j):\n",
    "\n",
    "                if (i,j) in st:\n",
    "                    return st[(i,j)]\n",
    "  \n",
    "                if G[i][j] == 9:\n",
    "                    # rating +=1\n",
    "                    st[(i,j)] = 1\n",
    "                    return 1\n",
    "                \n",
    "                v = 0\n",
    "                for m in moves:\n",
    "                    \n",
    "                    if valid(i,j,*m(i,j)):\n",
    "                        pc = dfs(*m(i,j))\n",
    "\n",
    "                        v += pc\n",
    "                st[(i,j)] = v\n",
    "             \n",
    "                return v      \n",
    "            \n",
    "            rating += dfs(ii,jj)\n",
    "   \n",
    "rating"
   ]
  },
  {
   "cell_type": "code",
   "execution_count": 38,
   "id": "5551a061",
   "metadata": {},
   "outputs": [
    {
     "name": "stdout",
     "output_type": "stream",
     "text": [
      "3\n"
     ]
    },
    {
     "data": {
      "text/plain": [
       "array([[0, 0, 0, 0, 0, 3, 0],\n",
       "       [0, 0, 1, 1, 1, 3, 0],\n",
       "       [0, 0, 1, 0, 0, 2, 0],\n",
       "       [0, 0, 1, 1, 1, 2, 0],\n",
       "       [0, 0, 1, 0, 0, 1, 0],\n",
       "       [0, 0, 1, 1, 1, 1, 0],\n",
       "       [0, 0, 1, 0, 0, 0, 0]], dtype=uint32)"
      ]
     },
     "execution_count": 38,
     "metadata": {},
     "output_type": "execute_result"
    },
    {
     "data": {
      "image/png": "[encoded data removed]",
      "text/plain": [
       "<Figure size 600x600 with 1 Axes>"
      ]
     },
     "metadata": {},
     "output_type": "display_data"
    }
   ],
   "source": [
    "import matplotlib.pyplot as plt\n",
    "import numpy as np\n",
    "%matplotlib inline\n",
    "\n",
    "# plt.figure(figsize=(16,16))\n",
    "# plt.imshow(N, cmap='Blues')\n",
    "\n",
    "# Day 10b: Hoof It\n",
    "\n",
    "\n",
    "myint = lambda n: int(n) if n.isdigit() else 12\n",
    "\n",
    "G = [ [myint(n) for n in list(line)] for line in open('data/10_test1.txt').read().splitlines()]\n",
    "# print(G)\n",
    "h = len(G)\n",
    "w = len(G[0])\n",
    "\n",
    "up = lambda i, j: (i,j) if i==0 else (i-1,j)\n",
    "down = lambda i,j: (i,j) if i==h-1 else (i+1,j)\n",
    "left = lambda i,j: (i,j) if j==0 else (i,j-1)\n",
    "right = lambda i,j: (i,j) if j==w-1 else (i,j+1)\n",
    "\n",
    "moves = [up,down,left,right]\n",
    "\n",
    "# dtoa = np.array()\n",
    "\n",
    "def valid(i,j,ni,nj):\n",
    "    return True if (G[ni][nj] - G[i][j]) == 1 else False\n",
    "\n",
    "\n",
    "rating = 0\n",
    "\n",
    "stop = False\n",
    "for ii in range(h):\n",
    "    if stop: break\n",
    "    for jj in range(w):\n",
    "        if G[ii][jj] == 0:\n",
    "            # print (f'head at {ii},{jj}')\n",
    "            st = {} #state\n",
    "            def dfs(i,j):\n",
    "\n",
    "                if (i,j) in st:\n",
    "                    return st[(i,j)]\n",
    "  \n",
    "                if G[i][j] == 9:\n",
    "                    # rating +=1\n",
    "                    st[(i,j)] = 1\n",
    "                    return 1\n",
    "                \n",
    "                v = 0\n",
    "                for m in moves:\n",
    "                    \n",
    "                    if valid(i,j,*m(i,j)):\n",
    "                        pc = dfs(*m(i,j))\n",
    "\n",
    "                        v += pc\n",
    "                st[(i,j)] = v\n",
    "             \n",
    "                return v      \n",
    "            \n",
    "            rating += dfs(ii,jj)\n",
    "            A = np.zeros((h, w), dtype=np.uint32)\n",
    "\n",
    "      \n",
    "            for i in range(A.shape[0]):\n",
    "                for j in range(A.shape[1]):\n",
    "                    A[i,j] = st.get((i,j),0)\n",
    "\n",
    "            plt.figure(figsize=(6,6))\n",
    "            plt.imshow(A, cmap='Blues')\n",
    "            \n",
    "            for i in range(A.shape[0]):\n",
    "                for j in range(A.shape[1]):\n",
    "                    # A[i,j] = st.get((i,j),0)\n",
    "                    if G[i][j] != 12: \n",
    "                        plt.text(j, i, G[i][j], ha=\"center\", va=\"bottom\", color='gray')\n",
    "                    if A[i,j] != 0:\n",
    "                        plt.text(j, i, A[i, j], ha=\"center\", va=\"top\", color='red')\n",
    "            #stop = True\n",
    "            #break\n",
    "   \n",
    "print(rating)\n",
    "A\n"
   ]
  },
  {
   "cell_type": "code",
   "execution_count": null,
   "id": "ab8fd538",
   "metadata": {},
   "outputs": [],
   "source": []
  }
 ],
 "metadata": {
  "kernelspec": {
   "display_name": "Python (tf-mac)",
   "language": "python",
   "name": "tf-mac"
  },
  "language_info": {
   "codemirror_mode": {
    "name": "ipython",
    "version": 3
   },
   "file_extension": ".py",
   "mimetype": "text/x-python",
   "name": "python",
   "nbconvert_exporter": "python",
   "pygments_lexer": "ipython3",
   "version": "3.10.14"
  }
 },
 "nbformat": 4,
 "nbformat_minor": 5
}
