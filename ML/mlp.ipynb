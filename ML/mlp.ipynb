{
 "cells": [
  {
   "cell_type": "markdown",
   "id": "80023997",
   "metadata": {},
   "source": [
    "# MLP notes following Karpathy Makemore Part 2\n",
    "\n",
    "The work follows the paper by [Bengio et al. 2003](https://www.jmlr.org/papers/volume3/bengio03a/bengio03a.pdf)\n",
    "\n",
    "## I want embedding size 3, context size 4 hidden layer size 200"
   ]
  },
  {
   "cell_type": "markdown",
   "id": "ad9ca454",
   "metadata": {},
   "source": []
  },
  {
   "cell_type": "code",
   "execution_count": 1,
   "id": "14a8f205",
   "metadata": {},
   "outputs": [],
   "source": [
    "# import all the usual suspects\n",
    "import torch\n",
    "import string\n",
    "import torch.nn.functional as F\n",
    "import matplotlib.pyplot as plt # for making figures\n",
    "%matplotlib inline"
   ]
  },
  {
   "cell_type": "code",
   "execution_count": 2,
   "id": "6ee26a2e",
   "metadata": {},
   "outputs": [
    {
     "data": {
      "text/plain": [
       "['emma', 'olivia', 'ava', 'isabella', 'sophia', 'charlotte', 'mia', 'amelia']"
      ]
     },
     "execution_count": 2,
     "metadata": {},
     "output_type": "execute_result"
    }
   ],
   "source": [
    "# read in all the words\n",
    "words = open('./names.txt', 'r').read().splitlines()\n",
    "words[:8]"
   ]
  },
  {
   "cell_type": "code",
   "execution_count": 4,
   "id": "0116718d",
   "metadata": {},
   "outputs": [
    {
     "name": "stdout",
     "output_type": "stream",
     "text": [
      "['.', 'a', 'b', 'c', 'd', 'e', 'f', 'g', 'h', 'i', 'j', 'k', 'l', 'm', 'n', 'o', 'p', 'q', 'r', 's', 't', 'u', 'v', 'w', 'x', 'y', 'z']\n"
     ]
    },
    {
     "data": {
      "text/plain": [
       "27"
      ]
     },
     "execution_count": 4,
     "metadata": {},
     "output_type": "execute_result"
    }
   ],
   "source": [
    "#a string of all the letters in an alphabet\n",
    "alphabet = string.ascii_lowercase\n",
    "\n",
    "al = ['.'] + list(alphabet)\n",
    "print(al)\n",
    "\n",
    "stoi = {a:i for i,a in enumerate(al)}\n",
    "itos = {i:a for i,a in enumerate(al)}\n",
    "len(stoi)"
   ]
  },
  {
   "cell_type": "code",
   "execution_count": 37,
   "id": "7298b3b8",
   "metadata": {},
   "outputs": [
    {
     "name": "stdout",
     "output_type": "stream",
     "text": [
      "1 .... ---> y\n",
      "2 ...y ---> u\n",
      "3 ..yu ---> h\n",
      "4 .yuh ---> e\n",
      "5 yuhe ---> n\n",
      "6 uhen ---> g\n",
      "7 heng ---> .\n",
      "8 .... ---> d\n",
      "9 ...d ---> i\n",
      "10 ..di ---> o\n",
      "11 .dio ---> n\n",
      "12 dion ---> d\n",
      "13 iond ---> r\n",
      "14 ondr ---> e\n",
      "15 ndre ---> .\n",
      "16 .... ---> x\n",
      "17 ...x ---> a\n",
      "18 ..xa ---> v\n",
      "19 .xav ---> i\n",
      "20 xavi ---> e\n",
      "21 avie ---> n\n",
      "22 vien ---> .\n",
      "23 .... ---> j\n",
      "24 ...j ---> o\n",
      "25 ..jo ---> r\n",
      "26 .jor ---> i\n",
      "27 jori ---> .\n",
      "28 .... ---> j\n",
      "29 ...j ---> u\n",
      "30 ..ju ---> a\n",
      "31 .jua ---> n\n",
      "32 juan ---> l\n",
      "33 uanl ---> u\n",
      "34 anlu ---> i\n",
      "35 nlui ---> s\n",
      "36 luis ---> .\n",
      "37 .... ---> e\n",
      "38 ...e ---> r\n",
      "39 ..er ---> a\n",
      "40 .era ---> n\n",
      "41 eran ---> d\n",
      "42 rand ---> i\n",
      "43 andi ---> .\n"
     ]
    }
   ],
   "source": [
    "block_size = 4\n",
    "\n",
    "X, Y = [],[]\n",
    "i = 1\n",
    "for w in words[:6]:\n",
    "    context = [0]*block_size\n",
    "    for ch in w+'.': \n",
    "        ix = stoi[ch]\n",
    "        X.append(context)\n",
    "        Y.append(ix)\n",
    "        print (i,\"\".join([itos [ci] for ci in context]),\"--->\",itos[ix])\n",
    "        context= context[1:]+[ix]\n",
    "        i += 1\n",
    "\n",
    "X = torch.tensor(X)\n",
    "Y = torch.tensor(Y)"
   ]
  },
  {
   "cell_type": "code",
   "execution_count": 15,
   "id": "8d32c83e",
   "metadata": {},
   "outputs": [
    {
     "data": {
      "text/plain": [
       "torch.Size([36, 4])"
      ]
     },
     "execution_count": 15,
     "metadata": {},
     "output_type": "execute_result"
    }
   ],
   "source": [
    "X.shape"
   ]
  },
  {
   "cell_type": "code",
   "execution_count": 16,
   "id": "7b8f8611",
   "metadata": {},
   "outputs": [],
   "source": [
    "block_size = 4\n",
    "def build_dataset(words):\n",
    "    X, Y = [],[]\n",
    "\n",
    "    for w in words:\n",
    "        context = [0]*block_size\n",
    "        for ch in w+\".\": \n",
    "            ix = stoi[ch]\n",
    "            X.append(context)\n",
    "            Y.append(ix)\n",
    "            # print (\"\".join([itos [ci] for ci in context]),\"--->\",itos[ix])\n",
    "            context= context[1:]+[ix]\n",
    "\n",
    "    X = torch.tensor(X)\n",
    "    Y = torch.tensor(Y)\n",
    "    return X, Y \n",
    "\n",
    "XX, YY = build_dataset(words[:8])"
   ]
  },
  {
   "cell_type": "code",
   "execution_count": 17,
   "id": "04678709",
   "metadata": {},
   "outputs": [
    {
     "data": {
      "text/plain": [
       "torch.Size([53, 4])"
      ]
     },
     "execution_count": 17,
     "metadata": {},
     "output_type": "execute_result"
    }
   ],
   "source": [
    "XX.shape"
   ]
  },
  {
   "cell_type": "code",
   "execution_count": 18,
   "id": "7f2beb81",
   "metadata": {},
   "outputs": [],
   "source": [
    "import random \n",
    "random.seed(42)\n",
    "random.shuffle(words)\n",
    "n1 = int(len(words)*0.8)\n",
    "n2 = int(len(words)*0.9)\n",
    "\n",
    "Xtr,Ytr = build_dataset(words[:n1])\n",
    "Xdev,Ydev = build_dataset(words[n1:n2])\n",
    "Xts,Yts = build_dataset(words[n2:])"
   ]
  },
  {
   "cell_type": "code",
   "execution_count": 19,
   "id": "03953917",
   "metadata": {},
   "outputs": [
    {
     "data": {
      "text/plain": [
       "(torch.Size([182625, 4]), torch.Size([22655, 4]), torch.Size([22866, 4]))"
      ]
     },
     "execution_count": 19,
     "metadata": {},
     "output_type": "execute_result"
    }
   ],
   "source": [
    "Xtr.shape, Xdev.shape, Xts.shape"
   ]
  },
  {
   "cell_type": "code",
   "execution_count": 23,
   "id": "92b397d1",
   "metadata": {},
   "outputs": [],
   "source": [
    "# Hyperparameters\n",
    "vocab_size = 27 # alphabet including termination character '.' \n",
    "code_length = 5 # dimentionality of the character embedding vector\n",
    "\n",
    "n_hidden = 300 # number of neuron in the hidden layer of the MLP\n",
    "\n"
   ]
  },
  {
   "cell_type": "code",
   "execution_count": null,
   "id": "f3b5bf8c",
   "metadata": {},
   "outputs": [],
   "source": [
    "g = torch.Generator().manual_seed(2147483647) # for reproducibility\n",
    "\n",
    "#C = torch.randn((27,5),generator=g)\n",
    "C = torch.randn((vocab_size,code_length),generator=g)\n",
    "\n",
    "#W1 = torch.randn((20,300), generator=g) # code_length * block_size = 5 * 4 = 20, n_hidden = 300\n",
    "W1 = torch.randn((code_length*block_size,n_hidden))\n",
    "\n",
    "#b1 = torch.randn(300, generator=g)\n",
    "b1 = torch.randn(n_hidden, generator=g)\n",
    "\n",
    "#W2 = torch.randn((300,27),generator=g) *0.01 #output layer\n",
    "\n",
    "W2 = torch.randn((n_hidden,vocab_size),generator=g) * 0.01\n",
    "#b2 = torch.randn(27,generator=g) * 0 \n",
    "b2 = torch.randn(vocab_size,generator=g) * 0 \n",
    "\n",
    "params = [C,W1,b1,W2,b2]\n",
    "for p in params:\n",
    "  p.requires_grad = True"
   ]
  },
  {
   "cell_type": "code",
   "execution_count": 25,
   "id": "13fb0f83",
   "metadata": {},
   "outputs": [
    {
     "data": {
      "text/plain": [
       "14562"
      ]
     },
     "execution_count": 25,
     "metadata": {},
     "output_type": "execute_result"
    }
   ],
   "source": [
    "sum(p.nelement() for p in params)"
   ]
  },
  {
   "cell_type": "code",
   "execution_count": 26,
   "id": "522ce083",
   "metadata": {},
   "outputs": [],
   "source": [
    "lre = torch.linspace(-3, 0, 1000)\n",
    "lrs = 10**lre"
   ]
  },
  {
   "cell_type": "code",
   "execution_count": 27,
   "id": "74418d95",
   "metadata": {},
   "outputs": [],
   "source": [
    "lri = []\n",
    "lossi = []\n",
    "stepi = []"
   ]
  },
  {
   "cell_type": "code",
   "execution_count": 28,
   "id": "3761c83a",
   "metadata": {},
   "outputs": [
    {
     "name": "stdout",
     "output_type": "stream",
     "text": [
      "emb.shape=torch.Size([64, 4, 5]),torch.Size([64, 300]),logits.shape=torch.Size([64, 27]),torch.Size([300, 27])\n"
     ]
    },
    {
     "data": {
      "text/plain": [
       "torch.Size([300, 27])"
      ]
     },
     "execution_count": 28,
     "metadata": {},
     "output_type": "execute_result"
    }
   ],
   "source": [
    "ix = torch.randint(0, Xtr.shape[0], (64,))\n",
    "emb = C[Xtr[ix]] \n",
    "emb.shape\n",
    "h = torch.tanh(emb.view(-1, 20) @ W1 + b1) # (64, 200)\n",
    "logits = h @ W2 + b2 # (64, 27)\n",
    "loss = F.cross_entropy(logits, Ytr[ix])\n",
    "\n",
    "print (f\"{emb.shape=},{h.shape},{logits.shape=},{W2.shape}\")\n",
    "emb.shape\n",
    "logits.shape\n",
    "h.shape\n",
    "W2.shape"
   ]
  },
  {
   "cell_type": "code",
   "execution_count": 29,
   "id": "65f0b34f",
   "metadata": {},
   "outputs": [],
   "source": [
    "# backward pass\n",
    "for p in params:\n",
    "    p.grad = None\n",
    "loss.backward()"
   ]
  },
  {
   "cell_type": "code",
   "execution_count": 30,
   "id": "0aac990c",
   "metadata": {},
   "outputs": [],
   "source": [
    "  # update\n",
    "  #lr = lrs[i]\n",
    "lr = 0.1 \n",
    "for p in params:\n",
    "    p.data += -lr * p.grad"
   ]
  },
  {
   "cell_type": "code",
   "execution_count": 31,
   "id": "558e0c68",
   "metadata": {},
   "outputs": [],
   "source": [
    "for i in range(200000):\n",
    "  \n",
    "  # minibatch construct\n",
    "  ix = torch.randint(0, Xtr.shape[0], (64,))\n",
    "\n",
    "  # forward pass\n",
    "  emb = C[Xtr[ix]] # [64, 4, 3]\n",
    "  h = torch.tanh(emb.view(-1, 20) @ W1 + b1) \n",
    "  logits = h @ W2 + b2 \n",
    "  loss = F.cross_entropy(logits, Ytr[ix])\n",
    "  #print(loss.item())\n",
    "\n",
    "  # backward pass\n",
    "  for p in params:\n",
    "    p.grad = None\n",
    "  loss.backward()\n",
    "\n",
    "  # update\n",
    "  #lr = lrs[i]\n",
    "  lr = 0.1 if i < 100000 else 0.01\n",
    "  for p in params:\n",
    "    p.data += -lr * p.grad\n",
    "\n",
    "  # track stats\n",
    "  #lri.append(lre[i])\n",
    "  stepi.append(i)\n",
    "  lossi.append(loss.log10().item())\n"
   ]
  },
  {
   "cell_type": "code",
   "execution_count": 32,
   "id": "76c39d12",
   "metadata": {},
   "outputs": [
    {
     "data": {
      "text/plain": [
       "[<matplotlib.lines.Line2D at 0x1670068f0>]"
      ]
     },
     "execution_count": 32,
     "metadata": {},
     "output_type": "execute_result"
    },
    {
     "data": {
      "image/png": "[encoded data removed]",
      "text/plain": [
       "<Figure size 640x480 with 1 Axes>"
      ]
     },
     "metadata": {},
     "output_type": "display_data"
    }
   ],
   "source": [
    "plt.plot(stepi, lossi)"
   ]
  },
  {
   "cell_type": "code",
   "execution_count": 34,
   "id": "31df4a83",
   "metadata": {},
   "outputs": [
    {
     "data": {
      "text/plain": [
       "tensor(2.0133, grad_fn=<NllLossBackward0>)"
      ]
     },
     "execution_count": 34,
     "metadata": {},
     "output_type": "execute_result"
    }
   ],
   "source": [
    "emb = C[Xtr] # (32, 3, 2)\n",
    "h = torch.tanh(emb.view(-1, 20) @ W1 + b1) # (32, 100)\n",
    "logits = h @ W2 + b2 # (32, 27)\n",
    "loss = F.cross_entropy(logits, Ytr)\n",
    "loss"
   ]
  },
  {
   "cell_type": "code",
   "execution_count": 35,
   "id": "98e3ae2c",
   "metadata": {},
   "outputs": [
    {
     "data": {
      "text/plain": [
       "tensor(2.1017, grad_fn=<NllLossBackward0>)"
      ]
     },
     "execution_count": 35,
     "metadata": {},
     "output_type": "execute_result"
    }
   ],
   "source": [
    "emb = C[Xdev] # (32, 3, 2)\n",
    "h = torch.tanh(emb.view(-1, 20) @ W1 + b1) # (32, 100)\n",
    "logits = h @ W2 + b2 # (32, 27)\n",
    "loss = F.cross_entropy(logits, Ydev)\n",
    "loss"
   ]
  },
  {
   "cell_type": "code",
   "execution_count": 36,
   "id": "a85d5b7b",
   "metadata": {},
   "outputs": [
    {
     "data": {
      "text/plain": [
       "tensor(2.0938, grad_fn=<NllLossBackward0>)"
      ]
     },
     "execution_count": 36,
     "metadata": {},
     "output_type": "execute_result"
    }
   ],
   "source": [
    "emb = C[Xts] # (32, 3, 2)\n",
    "h = torch.tanh(emb.view(-1, 20) @ W1 + b1) # (32, 100)\n",
    "logits = h @ W2 + b2 # (32, 27)\n",
    "loss = F.cross_entropy(logits, Yts)\n",
    "loss"
   ]
  },
  {
   "cell_type": "code",
   "execution_count": 39,
   "id": "6d557331",
   "metadata": {},
   "outputs": [
    {
     "name": "stdout",
     "output_type": "stream",
     "text": [
      "urleonon.\n",
      "galino.\n",
      "zyyas.\n",
      "roap.\n",
      "eliya.\n",
      "isar.\n",
      "sani.\n",
      "heom.\n",
      "nisa.\n",
      "lexnee.\n",
      "sharir.\n",
      "jaislyanna.\n",
      "richaeli.\n",
      "fen.\n",
      "dalynn.\n",
      "novaraja.\n",
      "gebal.\n",
      "annan.\n",
      "zarendar.\n",
      "kostoni.\n"
     ]
    }
   ],
   "source": [
    "# sample from the model\n",
    "g = torch.Generator().manual_seed(2147483647 + 1972)\n",
    "\n",
    "for _ in range(20):\n",
    "    \n",
    "    out = []\n",
    "    context = [0] * block_size # initialize with all ...\n",
    "    while True:\n",
    "      emb = C[torch.tensor([context])] # (1,block_size,d)\n",
    "      h = torch.tanh(emb.view(1, -1) @ W1 + b1)\n",
    "      logits = h @ W2 + b2\n",
    "      probs = F.softmax(logits, dim=1)\n",
    "      ix = torch.multinomial(probs, num_samples=1, generator=g).item()\n",
    "      context = context[1:] + [ix]\n",
    "      out.append(ix)\n",
    "      if ix == 0:\n",
    "        break\n",
    "    \n",
    "    print(''.join(itos[i] for i in out))"
   ]
  },
  {
   "cell_type": "code",
   "execution_count": 41,
   "id": "37949945",
   "metadata": {},
   "outputs": [
    {
     "data": {
      "image/png": "[encoded data removed]",
      "text/plain": [
       "<Figure size 800x800 with 1 Axes>"
      ]
     },
     "metadata": {},
     "output_type": "display_data"
    }
   ],
   "source": [
    "# visualize dimensions 0 and 1 of the embedding matrix C for all characters\n",
    "plt.figure(figsize=(8,8))\n",
    "plt.scatter(C[:,0].data, C[:,1].data, s=200)\n",
    "for i in range(C.shape[0]):\n",
    "    plt.text(C[i,0].item(), C[i,1].item(), itos[i], ha=\"center\", va=\"center\", color='white')\n",
    "plt.grid('minor')"
   ]
  },
  {
   "cell_type": "code",
   "execution_count": 22,
   "id": "c2412cb1",
   "metadata": {},
   "outputs": [],
   "source": [
    "# import all the usual suspects\n",
    "import numpy as np\n",
    "import matplotlib.pyplot as plt # for making figures\n",
    "%matplotlib inline"
   ]
  },
  {
   "cell_type": "code",
   "execution_count": 20,
   "id": "b0c2c60f",
   "metadata": {},
   "outputs": [
    {
     "data": {
      "text/plain": [
       "array([[0, 1, 0, 1],\n",
       "       [1, 1, 0, 1],\n",
       "       [0, 1, 1, 0],\n",
       "       [1, 0, 0, 0]])"
      ]
     },
     "execution_count": 20,
     "metadata": {},
     "output_type": "execute_result"
    }
   ],
   "source": [
    "# height width\n",
    "\n",
    "h,w = 4,4\n",
    "\n",
    "s1 = np.zeros([h,w],dtype=\"int64\")\n",
    "\n",
    "for i in range(h):\n",
    "    for j in range(w):\n",
    "        s1[i,j] = np.random.choice([0, 1])\n",
    "# s1 = np.ones([h,w]) - s1\n",
    "s1"
   ]
  },
  {
   "cell_type": "code",
   "execution_count": 18,
   "id": "81ee51b3",
   "metadata": {},
   "outputs": [
    {
     "data": {
      "image/png": "[encoded data removed]",
      "text/plain": [
       "<Figure size 640x480 with 1 Axes>"
      ]
     },
     "metadata": {},
     "output_type": "display_data"
    }
   ],
   "source": [
    "plt.imshow(s1, cmap='gray', vmin=0, vmax=1)\n",
    "plt.axis('off')  # Optional: remove axis ticks\n",
    "plt.show()\n"
   ]
  },
  {
   "cell_type": "code",
   "execution_count": 33,
   "id": "12ad541a",
   "metadata": {},
   "outputs": [],
   "source": [
    "secret = np.zeros([h,w],dtype='int64')\n",
    "secret[0,0] = 1\n",
    "secret[0,1] = 1\n",
    "secret[0,2] = 1\n",
    "secret[1,1] = 1\n",
    "secret[2,1] = 1\n",
    "\n"
   ]
  },
  {
   "cell_type": "code",
   "execution_count": 34,
   "id": "2ee160da",
   "metadata": {},
   "outputs": [
    {
     "data": {
      "image/png": "[encoded data removed]",
      "text/plain": [
       "<Figure size 640x480 with 1 Axes>"
      ]
     },
     "metadata": {},
     "output_type": "display_data"
    }
   ],
   "source": [
    "plt.imshow(np.ones([h,w])-secret, cmap='gray', vmin=0, vmax=1)\n",
    "plt.axis('off')  # Optional: remove axis ticks\n",
    "plt.show()"
   ]
  },
  {
   "cell_type": "code",
   "execution_count": 35,
   "id": "cd085d2e",
   "metadata": {},
   "outputs": [],
   "source": [
    "s2 = (s1 + secret) % 2 "
   ]
  },
  {
   "cell_type": "code",
   "execution_count": 36,
   "id": "aa0a3604",
   "metadata": {},
   "outputs": [
    {
     "data": {
      "text/plain": [
       "array([[1, 0, 1, 1],\n",
       "       [1, 0, 0, 1],\n",
       "       [0, 0, 1, 0],\n",
       "       [1, 0, 0, 0]])"
      ]
     },
     "execution_count": 36,
     "metadata": {},
     "output_type": "execute_result"
    }
   ],
   "source": [
    "s2"
   ]
  },
  {
   "cell_type": "code",
   "execution_count": 37,
   "id": "ef846150",
   "metadata": {},
   "outputs": [
    {
     "data": {
      "text/plain": [
       "array([[0, 1, 0, 1],\n",
       "       [1, 1, 0, 1],\n",
       "       [0, 1, 1, 0],\n",
       "       [1, 0, 0, 0]])"
      ]
     },
     "execution_count": 37,
     "metadata": {},
     "output_type": "execute_result"
    }
   ],
   "source": [
    "s1"
   ]
  },
  {
   "cell_type": "code",
   "execution_count": 38,
   "id": "13312cad",
   "metadata": {},
   "outputs": [
    {
     "data": {
      "text/plain": [
       "array([[1, 1, 1, 0],\n",
       "       [0, 1, 0, 0],\n",
       "       [0, 1, 0, 0],\n",
       "       [0, 0, 0, 0]])"
      ]
     },
     "execution_count": 38,
     "metadata": {},
     "output_type": "execute_result"
    }
   ],
   "source": [
    "secret"
   ]
  },
  {
   "cell_type": "code",
   "execution_count": 56,
   "id": "e74424a2",
   "metadata": {},
   "outputs": [],
   "source": [
    "# create visual secret share\n",
    "def create_vss(s):\n",
    "    z_pat = np.zeros([2,2])\n",
    "    z_pat[0,1] = 1\n",
    "    z_pat[1,0] = 1\n",
    "    o_pat = np.zeros([2,2])\n",
    "    o_pat[0,0] = 1\n",
    "    o_pat[1,1] = 1\n",
    "\n",
    "    A = np.zeros([s.shape[0]*2,s.shape[1]*2],dtype='int64')\n",
    "    for i in range (s.shape[0]):\n",
    "        for j in range (s.shape[1]):\n",
    "            if s[i,j]==0:\n",
    "                #copy 0 pattern\n",
    "                A[i*2:i*2+2,j*2:j*2+2] = z_pat\n",
    "            else:\n",
    "                A[i*2:i*2+2,j*2:j*2+2] = o_pat\n",
    "    return A"
   ]
  },
  {
   "cell_type": "code",
   "execution_count": 60,
   "id": "706bded9",
   "metadata": {},
   "outputs": [
    {
     "data": {
      "text/plain": [
       "array([[0, 1, 1, 0, 0, 1, 1, 0],\n",
       "       [1, 0, 0, 1, 1, 0, 0, 1],\n",
       "       [1, 0, 1, 0, 0, 1, 1, 0],\n",
       "       [0, 1, 0, 1, 1, 0, 0, 1],\n",
       "       [0, 1, 1, 0, 1, 0, 0, 1],\n",
       "       [1, 0, 0, 1, 0, 1, 1, 0],\n",
       "       [1, 0, 0, 1, 0, 1, 0, 1],\n",
       "       [0, 1, 1, 0, 1, 0, 1, 0]])"
      ]
     },
     "execution_count": 60,
     "metadata": {},
     "output_type": "execute_result"
    }
   ],
   "source": [
    "\n",
    "\n",
    "vss1 = create_vss(s1)\n",
    "vss1"
   ]
  },
  {
   "cell_type": "code",
   "execution_count": 61,
   "id": "2233e85a",
   "metadata": {},
   "outputs": [
    {
     "data": {
      "text/plain": [
       "array([[1, 0, 0, 1, 1, 0, 1, 0],\n",
       "       [0, 1, 1, 0, 0, 1, 0, 1],\n",
       "       [1, 0, 0, 1, 0, 1, 1, 0],\n",
       "       [0, 1, 1, 0, 1, 0, 0, 1],\n",
       "       [0, 1, 0, 1, 1, 0, 0, 1],\n",
       "       [1, 0, 1, 0, 0, 1, 1, 0],\n",
       "       [1, 0, 0, 1, 0, 1, 0, 1],\n",
       "       [0, 1, 1, 0, 1, 0, 1, 0]])"
      ]
     },
     "execution_count": 61,
     "metadata": {},
     "output_type": "execute_result"
    }
   ],
   "source": [
    "vss2 =  create_vss(s2)\n",
    "vss2"
   ]
  },
  {
   "cell_type": "code",
   "execution_count": null,
   "id": "0d2f91d2",
   "metadata": {},
   "outputs": [],
   "source": [
    "def create_share_image(vss):\n",
    "    pass\n"
   ]
  },
  {
   "cell_type": "code",
   "execution_count": 67,
   "id": "5cf5542e",
   "metadata": {},
   "outputs": [
    {
     "data": {
      "image/png": "[encoded data removed]",
      "text/plain": [
       "<Figure size 640x480 with 1 Axes>"
      ]
     },
     "metadata": {},
     "output_type": "display_data"
    }
   ],
   "source": [
    "vss = vss1\n",
    "rgba = np.zeros((vss.shape[0], vss.shape[1], 4))\n",
    "rgba[vss == 0] = [0, 0, 0, 1]\n",
    "\n",
    "plt.imshow(rgba)\n",
    "\n",
    "plt.axis('off')\n",
    "plt.imsave('share1.png', rgba)\n",
    "\n",
    "plt.show()"
   ]
  },
  {
   "cell_type": "code",
   "execution_count": null,
   "id": "cc7702d0",
   "metadata": {},
   "outputs": [],
   "source": [
    "# Create a figure with specific size\n",
    "fig = plt.figure(figsize=(3, 3), dpi=300)\n",
    "plt.imshow(rgba)\n",
    "plt.axis('off')\n",
    "\n",
    "# Save without extra padding or borders\n",
    "plt.savefig('output_image.png', dpi=100, bbox_inches='tight', pad_inches=0, transparent=True)\n",
    "plt.close(fig)"
   ]
  }
 ],
 "metadata": {
  "kernelspec": {
   "display_name": "Python (tf-mac)",
   "language": "python",
   "name": "tf-mac"
  },
  "language_info": {
   "codemirror_mode": {
    "name": "ipython",
    "version": 3
   },
   "file_extension": ".py",
   "mimetype": "text/x-python",
   "name": "python",
   "nbconvert_exporter": "python",
   "pygments_lexer": "ipython3",
   "version": "3.10.14"
  }
 },
 "nbformat": 4,
 "nbformat_minor": 5
}
