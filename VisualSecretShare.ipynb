{
 "cells": [
  {
   "cell_type": "markdown",
   "id": "5c6acfcb",
   "metadata": {},
   "source": [
    "## Visual Secret Sharing\n",
    "\n",
    "This program creates 2 images when they are superimposed on each other a secret message emarges"
   ]
  },
  {
   "cell_type": "code",
   "execution_count": 2,
   "id": "7a4ddb5a",
   "metadata": {},
   "outputs": [],
   "source": [
    "# import all the usual suspects\n",
    "import numpy as np\n",
    "import matplotlib.pyplot as plt # for making figures\n",
    "%matplotlib inline"
   ]
  },
  {
   "cell_type": "code",
   "execution_count": 3,
   "id": "43f970d7",
   "metadata": {},
   "outputs": [
    {
     "data": {
      "text/plain": [
       "array([[1, 1, 1, 0],\n",
       "       [1, 0, 0, 0],\n",
       "       [1, 0, 0, 1],\n",
       "       [0, 0, 1, 1]])"
      ]
     },
     "execution_count": 3,
     "metadata": {},
     "output_type": "execute_result"
    }
   ],
   "source": [
    "# height width\n",
    "\n",
    "h,w = 4,4\n",
    "\n",
    "s1 = np.zeros([h,w],dtype=\"int64\")\n",
    "\n",
    "for i in range(h):\n",
    "    for j in range(w):\n",
    "        s1[i,j] = np.random.choice([0, 1])\n",
    "# s1 = np.ones([h,w]) - s1\n",
    "s1"
   ]
  },
  {
   "cell_type": "code",
   "execution_count": 4,
   "id": "b9ba7b37",
   "metadata": {},
   "outputs": [
    {
     "data": {
      "image/png": "[encoded data removed]",
      "text/plain": [
       "<Figure size 640x480 with 1 Axes>"
      ]
     },
     "metadata": {},
     "output_type": "display_data"
    }
   ],
   "source": [
    "plt.imshow(s1, cmap='gray', vmin=0, vmax=1)\n",
    "plt.axis('off')  # Optional: remove axis ticks\n",
    "plt.show()\n"
   ]
  },
  {
   "cell_type": "code",
   "execution_count": 5,
   "id": "b774804e",
   "metadata": {},
   "outputs": [],
   "source": [
    "secret = np.zeros([h,w],dtype='int64')\n",
    "secret[0,0] = 1\n",
    "secret[0,1] = 1\n",
    "secret[0,2] = 1\n",
    "secret[1,1] = 1\n",
    "secret[2,1] = 1\n",
    "\n"
   ]
  },
  {
   "cell_type": "code",
   "execution_count": 6,
   "id": "6f9c9788",
   "metadata": {},
   "outputs": [
    {
     "data": {
      "image/png": "[encoded data removed]",
      "text/plain": [
       "<Figure size 640x480 with 1 Axes>"
      ]
     },
     "metadata": {},
     "output_type": "display_data"
    }
   ],
   "source": [
    "plt.imshow(np.ones([h,w])-secret, cmap='gray', vmin=0, vmax=1)\n",
    "plt.axis('off')  # Optional: remove axis ticks\n",
    "plt.show()"
   ]
  },
  {
   "cell_type": "code",
   "execution_count": 10,
   "id": "03d5e3d8",
   "metadata": {},
   "outputs": [
    {
     "data": {
      "text/plain": [
       "array([[0, 0, 0, 0],\n",
       "       [1, 1, 0, 0],\n",
       "       [1, 1, 0, 1],\n",
       "       [0, 0, 1, 1]])"
      ]
     },
     "execution_count": 10,
     "metadata": {},
     "output_type": "execute_result"
    }
   ],
   "source": [
    "#encode the secret\n",
    "s2 = (s1 + secret) % 2 \n",
    "s2"
   ]
  },
  {
   "cell_type": "code",
   "execution_count": 9,
   "id": "1ef6fd5c",
   "metadata": {},
   "outputs": [],
   "source": [
    "# create visual secret share\n",
    "def create_vss(s):\n",
    "    z_pat = np.zeros([2,2])\n",
    "    z_pat[0,1] = 1\n",
    "    z_pat[1,0] = 1\n",
    "    o_pat = np.zeros([2,2])\n",
    "    o_pat[0,0] = 1\n",
    "    o_pat[1,1] = 1\n",
    "\n",
    "    A = np.zeros([s.shape[0]*2,s.shape[1]*2],dtype='int64')\n",
    "    for i in range (s.shape[0]):\n",
    "        for j in range (s.shape[1]):\n",
    "            if s[i,j]==0:\n",
    "                #copy 0 pattern\n",
    "                A[i*2:i*2+2,j*2:j*2+2] = z_pat\n",
    "            else:\n",
    "                A[i*2:i*2+2,j*2:j*2+2] = o_pat\n",
    "    return A"
   ]
  },
  {
   "cell_type": "code",
   "execution_count": 11,
   "id": "ea187562",
   "metadata": {},
   "outputs": [
    {
     "data": {
      "text/plain": [
       "array([[1, 0, 0, ..., 0, 0, 1],\n",
       "       [0, 1, 1, ..., 1, 1, 0],\n",
       "       [0, 1, 1, ..., 1, 1, 0],\n",
       "       ...,\n",
       "       [0, 1, 1, ..., 1, 1, 0],\n",
       "       [0, 1, 1, ..., 1, 1, 0],\n",
       "       [1, 0, 0, ..., 0, 0, 1]])"
      ]
     },
     "execution_count": 11,
     "metadata": {},
     "output_type": "execute_result"
    }
   ],
   "source": [
    "vss1 = create_vss(create_vss(create_vss(s1)))\n",
    "vss1"
   ]
  },
  {
   "cell_type": "code",
   "execution_count": 12,
   "id": "76d865e4",
   "metadata": {},
   "outputs": [
    {
     "data": {
      "text/plain": [
       "array([[0, 1, 1, ..., 0, 0, 1],\n",
       "       [1, 0, 0, ..., 1, 1, 0],\n",
       "       [1, 0, 0, ..., 1, 1, 0],\n",
       "       ...,\n",
       "       [0, 1, 1, ..., 1, 1, 0],\n",
       "       [0, 1, 1, ..., 1, 1, 0],\n",
       "       [1, 0, 0, ..., 0, 0, 1]])"
      ]
     },
     "execution_count": 12,
     "metadata": {},
     "output_type": "execute_result"
    }
   ],
   "source": [
    "vss2 =  create_vss(create_vss(create_vss(s2)))\n",
    "vss2"
   ]
  },
  {
   "cell_type": "code",
   "execution_count": 13,
   "id": "5b9d6e78",
   "metadata": {},
   "outputs": [
    {
     "data": {
      "image/png": "[encoded data removed]",
      "text/plain": [
       "<Figure size 640x480 with 1 Axes>"
      ]
     },
     "metadata": {},
     "output_type": "display_data"
    }
   ],
   "source": [
    "vss = vss1\n",
    "rgba = np.zeros((vss.shape[0], vss.shape[1], 4))\n",
    "rgba[vss == 0] = [0, 0, 0, 1]\n",
    "\n",
    "plt.imshow(rgba)\n",
    "\n",
    "plt.axis('off')\n",
    "\n",
    "#plt.show()\n",
    "# Create a figure with specific size\n",
    "fig = plt.figure(figsize=(4, 4), dpi=300)\n",
    "plt.imshow(rgba)\n",
    "# plt.axis('off')\n",
    "\n",
    "# Save without extra padding or borders\n",
    "plt.savefig('S1.png', dpi=100, bbox_inches='tight', pad_inches=0, transparent=True)\n",
    "plt.close(fig)"
   ]
  },
  {
   "cell_type": "code",
   "execution_count": 14,
   "id": "46cc3e58",
   "metadata": {},
   "outputs": [
    {
     "data": {
      "image/png": "[encoded data removed]",
      "text/plain": [
       "<Figure size 640x480 with 1 Axes>"
      ]
     },
     "metadata": {},
     "output_type": "display_data"
    }
   ],
   "source": [
    "vss = vss2\n",
    "rgba = np.zeros((vss.shape[0], vss.shape[1], 4))\n",
    "rgba[vss == 0] = [0, 0, 0, 1]\n",
    "\n",
    "plt.imshow(rgba)\n",
    "\n",
    "plt.axis('off')\n",
    "\n",
    "#plt.show()\n",
    "# Create a figure with specific size\n",
    "fig = plt.figure(figsize=(4, 4), dpi=300)\n",
    "plt.imshow(rgba)\n",
    "# plt.axis('off')\n",
    "\n",
    "# Save without extra padding or borders\n",
    "plt.savefig('S2.png', dpi=100, bbox_inches='tight', pad_inches=0, transparent=True)\n",
    "plt.close(fig)"
   ]
  },
  {
   "cell_type": "code",
   "execution_count": null,
   "id": "0f2b4a6f",
   "metadata": {},
   "outputs": [],
   "source": []
  }
 ],
 "metadata": {
  "kernelspec": {
   "display_name": "Python (tf-mac)",
   "language": "python",
   "name": "tf-mac"
  },
  "language_info": {
   "codemirror_mode": {
    "name": "ipython",
    "version": 3
   },
   "file_extension": ".py",
   "mimetype": "text/x-python",
   "name": "python",
   "nbconvert_exporter": "python",
   "pygments_lexer": "ipython3",
   "version": "3.10.14"
  }
 },
 "nbformat": 4,
 "nbformat_minor": 5
}
